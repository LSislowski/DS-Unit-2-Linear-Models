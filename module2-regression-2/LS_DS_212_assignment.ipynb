{
  "nbformat": 4,
  "nbformat_minor": 0,
  "metadata": {
    "colab": {
      "name": "LS_DS_212_solution.ipynb",
      "provenance": [],
      "collapsed_sections": []
    },
    "kernelspec": {
      "display_name": "Python 3",
      "language": "python",
      "name": "python3"
    },
    "language_info": {
      "codemirror_mode": {
        "name": "ipython",
        "version": 3
      },
      "file_extension": ".py",
      "mimetype": "text/x-python",
      "name": "python",
      "nbconvert_exporter": "python",
      "pygments_lexer": "ipython3",
      "version": "3.8.5"
    }
  },
  "cells": [
    {
      "cell_type": "markdown",
      "metadata": {
        "id": "vAtqB9CebuEd"
      },
      "source": [
        "Lambda School Data Science\n",
        "\n",
        "*Unit 2, Sprint 1, Module 2*\n",
        "\n",
        "---"
      ]
    },
    {
      "cell_type": "code",
      "metadata": {
        "id": "8B5LY-abbuEe"
      },
      "source": [
        "%%capture\n",
        "import sys\n",
        "\n",
        "# If you're on Colab:\n",
        "if 'google.colab' in sys.modules:\n",
        "    DATA_PATH = 'https://raw.githubusercontent.com/LambdaSchool/DS-Unit-2-Applied-Modeling/master/data/'\n",
        "\n",
        "# If you're working locally:\n",
        "else:\n",
        "    DATA_PATH = '../data/'"
      ],
      "execution_count": 1,
      "outputs": []
    },
    {
      "cell_type": "markdown",
      "metadata": {
        "id": "c8prrLhjbuEf"
      },
      "source": [
        "# Module Project: Regression II\n",
        "\n",
        "In this project, you'll continue working with the New York City rent dataset you used in the last module project.\n",
        "\n",
        "## Directions\n",
        "\n",
        "The tasks for this project are as follows:\n",
        "\n",
        "- **Task 1:** Import `csv` file using `wrangle` function.\n",
        "- **Task 2:** Conduct exploratory data analysis (EDA), and modify `wrangle` function to engineer two new features.\n",
        "- **Task 3:** Split data into feature matrix `X` and target vector `y`.\n",
        "- **Task 4:** Split feature matrix `X` and target vector `y` into training and test sets.\n",
        "- **Task 5:** Establish the baseline mean absolute error for your dataset.\n",
        "- **Task 6:** Build and train a `Linearregression` model.\n",
        "- **Task 7:** Calculate the training and test mean absolute error for your model.\n",
        "- **Task 8:** Calculate the training and test $R^2$ score for your model.\n",
        "- **Stretch Goal:** Determine the three most important features for your linear regression model.\n",
        "\n",
        "**Note**\n",
        "\n",
        "You should limit yourself to the following libraries for this project:\n",
        "\n",
        "- `matplotlib`\n",
        "- `numpy`\n",
        "- `pandas`\n",
        "- `sklearn`"
      ]
    },
    {
      "cell_type": "markdown",
      "metadata": {
        "id": "_Obbqzm3buEf"
      },
      "source": [
        "# I. Wrangle Data"
      ]
    },
    {
      "cell_type": "code",
      "metadata": {
        "id": "6prTaArbcdZo"
      },
      "source": [
        "# Step 1 is always to import your libraries\n",
        "\n",
        "import pandas as pd\n",
        "import numpy as np\n",
        "import matplotlib.pyplot as plt"
      ],
      "execution_count": 2,
      "outputs": []
    },
    {
      "cell_type": "code",
      "metadata": {
        "id": "LcfnIGjJbuEg"
      },
      "source": [
        "def wrangle(filepath):\n",
        "    df = pd.read_csv(filepath,\n",
        "                     parse_dates=['created'],\n",
        "                     index_col=['created'])\n",
        "    \n",
        "    # Remove the most extreme 1% prices,\n",
        "    # the most extreme .1% latitudes, &\n",
        "    # the most extreme .1% longitudes\n",
        "    df = df[(df['price'] >= np.percentile(df['price'], 0.5)) & \n",
        "            (df['price'] <= np.percentile(df['price'], 99.5)) & \n",
        "            (df['latitude'] >= np.percentile(df['latitude'], 0.05)) & \n",
        "            (df['latitude'] < np.percentile(df['latitude'], 99.95)) &\n",
        "            (df['longitude'] >= np.percentile(df['longitude'], 0.05)) & \n",
        "            (df['longitude'] <= np.percentile(df['longitude'], 99.95))]\n",
        "    \n",
        "    # Drop rows with NaN values\n",
        "    df.dropna(axis=0, inplace=True)\n",
        "\n",
        "    # New Features for the DataSet\n",
        "    # TOTAL ROOMS\n",
        "    df['total_rooms'] =  df['bathrooms'] + df['bedrooms']\n",
        "\n",
        "    # ALL PETS ALLOWED\n",
        "    df.loc[(df['dogs_allowed'] == 1) | (df['cats_allowed'] == 1), 'pets_allowed'] = 1\n",
        "    df.loc[(df['dogs_allowed'] != 1) & (df['cats_allowed'] != 1), 'pets_allowed'] = 0\n",
        "\n",
        "    # LUXURIES\n",
        "    df.loc[(df['hardwood_floors'] == 1) & (df['dishwasher'] == 1) & (df['laundry_in_unit'] == 1), 'much_luxury'] = 1\n",
        "    df.loc[(df['hardwood_floors'] != 1) | (df['dishwasher'] != 1) | (df['laundry_in_unit'] != 1), 'much_luxury'] = 0\n",
        "\n",
        "    return df\n",
        "\n",
        "filepath = DATA_PATH + 'apartments/renthop-nyc.csv'"
      ],
      "execution_count": 3,
      "outputs": []
    },
    {
      "cell_type": "markdown",
      "metadata": {
        "id": "mEbVk-YTbuEg"
      },
      "source": [
        "**Task 1:** Add the following functionality to the above `wrangle` function.\n",
        "\n",
        "- The `'created'` column will parsed as a `DateTime` object and set as the `index` of the DataFrame. \n",
        "- Rows with `NaN` values will be dropped.\n",
        "\n",
        "Then use your modified function to import the `renthop-nyc.csv` file into a DataFrame named `df`."
      ]
    },
    {
      "cell_type": "code",
      "metadata": {
        "id": "-PfDHD9XbuEg",
        "outputId": "33fc22c0-4d1f-4f4e-f821-42cb04ecad90",
        "colab": {
          "base_uri": "https://localhost:8080/",
          "height": 544
        }
      },
      "source": [
        "df = wrangle(filepath)\n",
        "\n",
        "df.head()"
      ],
      "execution_count": 4,
      "outputs": [
        {
          "output_type": "execute_result",
          "data": {
            "text/html": [
              "<div>\n",
              "<style scoped>\n",
              "    .dataframe tbody tr th:only-of-type {\n",
              "        vertical-align: middle;\n",
              "    }\n",
              "\n",
              "    .dataframe tbody tr th {\n",
              "        vertical-align: top;\n",
              "    }\n",
              "\n",
              "    .dataframe thead th {\n",
              "        text-align: right;\n",
              "    }\n",
              "</style>\n",
              "<table border=\"1\" class=\"dataframe\">\n",
              "  <thead>\n",
              "    <tr style=\"text-align: right;\">\n",
              "      <th></th>\n",
              "      <th>bathrooms</th>\n",
              "      <th>bedrooms</th>\n",
              "      <th>description</th>\n",
              "      <th>display_address</th>\n",
              "      <th>latitude</th>\n",
              "      <th>longitude</th>\n",
              "      <th>price</th>\n",
              "      <th>street_address</th>\n",
              "      <th>interest_level</th>\n",
              "      <th>elevator</th>\n",
              "      <th>cats_allowed</th>\n",
              "      <th>hardwood_floors</th>\n",
              "      <th>dogs_allowed</th>\n",
              "      <th>doorman</th>\n",
              "      <th>dishwasher</th>\n",
              "      <th>no_fee</th>\n",
              "      <th>laundry_in_building</th>\n",
              "      <th>fitness_center</th>\n",
              "      <th>pre-war</th>\n",
              "      <th>laundry_in_unit</th>\n",
              "      <th>roof_deck</th>\n",
              "      <th>outdoor_space</th>\n",
              "      <th>dining_room</th>\n",
              "      <th>high_speed_internet</th>\n",
              "      <th>balcony</th>\n",
              "      <th>swimming_pool</th>\n",
              "      <th>new_construction</th>\n",
              "      <th>terrace</th>\n",
              "      <th>exclusive</th>\n",
              "      <th>loft</th>\n",
              "      <th>garden_patio</th>\n",
              "      <th>wheelchair_access</th>\n",
              "      <th>common_outdoor_space</th>\n",
              "      <th>total_rooms</th>\n",
              "      <th>pets_allowed</th>\n",
              "      <th>much_luxury</th>\n",
              "    </tr>\n",
              "    <tr>\n",
              "      <th>created</th>\n",
              "      <th></th>\n",
              "      <th></th>\n",
              "      <th></th>\n",
              "      <th></th>\n",
              "      <th></th>\n",
              "      <th></th>\n",
              "      <th></th>\n",
              "      <th></th>\n",
              "      <th></th>\n",
              "      <th></th>\n",
              "      <th></th>\n",
              "      <th></th>\n",
              "      <th></th>\n",
              "      <th></th>\n",
              "      <th></th>\n",
              "      <th></th>\n",
              "      <th></th>\n",
              "      <th></th>\n",
              "      <th></th>\n",
              "      <th></th>\n",
              "      <th></th>\n",
              "      <th></th>\n",
              "      <th></th>\n",
              "      <th></th>\n",
              "      <th></th>\n",
              "      <th></th>\n",
              "      <th></th>\n",
              "      <th></th>\n",
              "      <th></th>\n",
              "      <th></th>\n",
              "      <th></th>\n",
              "      <th></th>\n",
              "      <th></th>\n",
              "      <th></th>\n",
              "      <th></th>\n",
              "      <th></th>\n",
              "    </tr>\n",
              "  </thead>\n",
              "  <tbody>\n",
              "    <tr>\n",
              "      <th>2016-06-24 07:54:24</th>\n",
              "      <td>1.5</td>\n",
              "      <td>3</td>\n",
              "      <td>A Brand New 3 Bedroom 1.5 bath ApartmentEnjoy ...</td>\n",
              "      <td>Metropolitan Avenue</td>\n",
              "      <td>40.7145</td>\n",
              "      <td>-73.9425</td>\n",
              "      <td>3000</td>\n",
              "      <td>792 Metropolitan Avenue</td>\n",
              "      <td>medium</td>\n",
              "      <td>0</td>\n",
              "      <td>0</td>\n",
              "      <td>0</td>\n",
              "      <td>0</td>\n",
              "      <td>0</td>\n",
              "      <td>0</td>\n",
              "      <td>0</td>\n",
              "      <td>0</td>\n",
              "      <td>0</td>\n",
              "      <td>0</td>\n",
              "      <td>0</td>\n",
              "      <td>0</td>\n",
              "      <td>0</td>\n",
              "      <td>0</td>\n",
              "      <td>0</td>\n",
              "      <td>0</td>\n",
              "      <td>0</td>\n",
              "      <td>0</td>\n",
              "      <td>0</td>\n",
              "      <td>0</td>\n",
              "      <td>0</td>\n",
              "      <td>0</td>\n",
              "      <td>0</td>\n",
              "      <td>0</td>\n",
              "      <td>4.5</td>\n",
              "      <td>0.0</td>\n",
              "      <td>0.0</td>\n",
              "    </tr>\n",
              "    <tr>\n",
              "      <th>2016-06-12 12:19:27</th>\n",
              "      <td>1.0</td>\n",
              "      <td>2</td>\n",
              "      <td></td>\n",
              "      <td>Columbus Avenue</td>\n",
              "      <td>40.7947</td>\n",
              "      <td>-73.9667</td>\n",
              "      <td>5465</td>\n",
              "      <td>808 Columbus Avenue</td>\n",
              "      <td>low</td>\n",
              "      <td>1</td>\n",
              "      <td>1</td>\n",
              "      <td>0</td>\n",
              "      <td>1</td>\n",
              "      <td>1</td>\n",
              "      <td>0</td>\n",
              "      <td>0</td>\n",
              "      <td>0</td>\n",
              "      <td>1</td>\n",
              "      <td>0</td>\n",
              "      <td>0</td>\n",
              "      <td>0</td>\n",
              "      <td>0</td>\n",
              "      <td>0</td>\n",
              "      <td>0</td>\n",
              "      <td>0</td>\n",
              "      <td>0</td>\n",
              "      <td>0</td>\n",
              "      <td>0</td>\n",
              "      <td>0</td>\n",
              "      <td>0</td>\n",
              "      <td>0</td>\n",
              "      <td>0</td>\n",
              "      <td>0</td>\n",
              "      <td>3.0</td>\n",
              "      <td>1.0</td>\n",
              "      <td>0.0</td>\n",
              "    </tr>\n",
              "    <tr>\n",
              "      <th>2016-04-17 03:26:41</th>\n",
              "      <td>1.0</td>\n",
              "      <td>1</td>\n",
              "      <td>Top Top West Village location, beautiful Pre-w...</td>\n",
              "      <td>W 13 Street</td>\n",
              "      <td>40.7388</td>\n",
              "      <td>-74.0018</td>\n",
              "      <td>2850</td>\n",
              "      <td>241 W 13 Street</td>\n",
              "      <td>high</td>\n",
              "      <td>0</td>\n",
              "      <td>0</td>\n",
              "      <td>1</td>\n",
              "      <td>0</td>\n",
              "      <td>0</td>\n",
              "      <td>1</td>\n",
              "      <td>0</td>\n",
              "      <td>1</td>\n",
              "      <td>0</td>\n",
              "      <td>0</td>\n",
              "      <td>0</td>\n",
              "      <td>0</td>\n",
              "      <td>0</td>\n",
              "      <td>0</td>\n",
              "      <td>0</td>\n",
              "      <td>0</td>\n",
              "      <td>0</td>\n",
              "      <td>0</td>\n",
              "      <td>0</td>\n",
              "      <td>0</td>\n",
              "      <td>0</td>\n",
              "      <td>0</td>\n",
              "      <td>0</td>\n",
              "      <td>0</td>\n",
              "      <td>2.0</td>\n",
              "      <td>0.0</td>\n",
              "      <td>0.0</td>\n",
              "    </tr>\n",
              "    <tr>\n",
              "      <th>2016-04-18 02:22:02</th>\n",
              "      <td>1.0</td>\n",
              "      <td>1</td>\n",
              "      <td>Building Amenities - Garage - Garden - fitness...</td>\n",
              "      <td>East 49th Street</td>\n",
              "      <td>40.7539</td>\n",
              "      <td>-73.9677</td>\n",
              "      <td>3275</td>\n",
              "      <td>333 East 49th Street</td>\n",
              "      <td>low</td>\n",
              "      <td>0</td>\n",
              "      <td>0</td>\n",
              "      <td>1</td>\n",
              "      <td>0</td>\n",
              "      <td>0</td>\n",
              "      <td>0</td>\n",
              "      <td>1</td>\n",
              "      <td>0</td>\n",
              "      <td>0</td>\n",
              "      <td>0</td>\n",
              "      <td>0</td>\n",
              "      <td>0</td>\n",
              "      <td>0</td>\n",
              "      <td>0</td>\n",
              "      <td>0</td>\n",
              "      <td>0</td>\n",
              "      <td>0</td>\n",
              "      <td>0</td>\n",
              "      <td>0</td>\n",
              "      <td>0</td>\n",
              "      <td>0</td>\n",
              "      <td>0</td>\n",
              "      <td>0</td>\n",
              "      <td>0</td>\n",
              "      <td>2.0</td>\n",
              "      <td>0.0</td>\n",
              "      <td>0.0</td>\n",
              "    </tr>\n",
              "    <tr>\n",
              "      <th>2016-04-28 01:32:41</th>\n",
              "      <td>1.0</td>\n",
              "      <td>4</td>\n",
              "      <td>Beautifully renovated 3 bedroom flex 4 bedroom...</td>\n",
              "      <td>West 143rd Street</td>\n",
              "      <td>40.8241</td>\n",
              "      <td>-73.9493</td>\n",
              "      <td>3350</td>\n",
              "      <td>500 West 143rd Street</td>\n",
              "      <td>low</td>\n",
              "      <td>0</td>\n",
              "      <td>0</td>\n",
              "      <td>0</td>\n",
              "      <td>0</td>\n",
              "      <td>0</td>\n",
              "      <td>0</td>\n",
              "      <td>0</td>\n",
              "      <td>0</td>\n",
              "      <td>0</td>\n",
              "      <td>1</td>\n",
              "      <td>0</td>\n",
              "      <td>0</td>\n",
              "      <td>0</td>\n",
              "      <td>0</td>\n",
              "      <td>0</td>\n",
              "      <td>0</td>\n",
              "      <td>0</td>\n",
              "      <td>0</td>\n",
              "      <td>0</td>\n",
              "      <td>0</td>\n",
              "      <td>0</td>\n",
              "      <td>0</td>\n",
              "      <td>0</td>\n",
              "      <td>0</td>\n",
              "      <td>5.0</td>\n",
              "      <td>0.0</td>\n",
              "      <td>0.0</td>\n",
              "    </tr>\n",
              "  </tbody>\n",
              "</table>\n",
              "</div>"
            ],
            "text/plain": [
              "                     bathrooms  bedrooms  ... pets_allowed much_luxury\n",
              "created                                   ...                         \n",
              "2016-06-24 07:54:24        1.5         3  ...          0.0         0.0\n",
              "2016-06-12 12:19:27        1.0         2  ...          1.0         0.0\n",
              "2016-04-17 03:26:41        1.0         1  ...          0.0         0.0\n",
              "2016-04-18 02:22:02        1.0         1  ...          0.0         0.0\n",
              "2016-04-28 01:32:41        1.0         4  ...          0.0         0.0\n",
              "\n",
              "[5 rows x 36 columns]"
            ]
          },
          "metadata": {
            "tags": []
          },
          "execution_count": 4
        }
      ]
    },
    {
      "cell_type": "code",
      "metadata": {
        "id": "suuFwZA9dPzS",
        "outputId": "22ffc76b-8373-47df-8b2e-846fa50af07e",
        "colab": {
          "base_uri": "https://localhost:8080/"
        }
      },
      "source": [
        "# Check to make sure there are no NaN values in the DataFrame\n",
        "df.isna().sum().sum()"
      ],
      "execution_count": 5,
      "outputs": [
        {
          "output_type": "execute_result",
          "data": {
            "text/plain": [
              "0"
            ]
          },
          "metadata": {
            "tags": []
          },
          "execution_count": 5
        }
      ]
    },
    {
      "cell_type": "markdown",
      "metadata": {
        "id": "b36C51VdbuEg"
      },
      "source": [
        "**Task 2:** Using your `pandas` and dataviz skills decide on two features that you want to engineer for your dataset. Next, modify your `wrangle` function to add those features. \n",
        "\n",
        "**Note:** You can learn more about feature engineering [here](https://en.wikipedia.org/wiki/Feature_engineering). Here are some ideas for new features:\n",
        "\n",
        "- Does the apartment have a description?\n",
        "- Length of description.\n",
        "- Total number of perks that apartment has.\n",
        "- Are cats _or_ dogs allowed?\n",
        "- Are cats _and_ dogs allowed?\n",
        "- Total number of rooms (beds + baths)."
      ]
    },
    {
      "cell_type": "code",
      "metadata": {
        "id": "2khCTApFbuEh",
        "outputId": "24b14a67-9393-4b3f-ed69-a6f2c23365de",
        "colab": {
          "base_uri": "https://localhost:8080/"
        }
      },
      "source": [
        "# Conduct your exploratory data analysis here, \n",
        "# and then modify the function above.\n",
        "# print(df.nunique())\n",
        "\n",
        "# Explore here to learn how these values are distributed\n",
        "print(df['bathrooms'].value_counts())\n",
        "print(df['bedrooms'].value_counts())\n",
        "\n",
        "# Find your second && condition for Pets Allowed\n",
        "print(df['dogs_allowed'].value_counts())\n"
      ],
      "execution_count": 6,
      "outputs": [
        {
          "output_type": "stream",
          "text": [
            "1.0     37816\n",
            "2.0      7421\n",
            "3.0       663\n",
            "1.5       641\n",
            "0.0       304\n",
            "2.5       256\n",
            "4.0        91\n",
            "3.5        55\n",
            "4.5         8\n",
            "5.0         4\n",
            "10.0        1\n",
            "Name: bathrooms, dtype: int64\n",
            "1    14987\n",
            "2    14181\n",
            "0     9003\n",
            "3     7041\n",
            "4     1793\n",
            "5      209\n",
            "6       43\n",
            "8        2\n",
            "7        1\n",
            "Name: bedrooms, dtype: int64\n",
            "0    26306\n",
            "1    20954\n",
            "Name: dogs_allowed, dtype: int64\n"
          ],
          "name": "stdout"
        }
      ]
    },
    {
      "cell_type": "markdown",
      "metadata": {
        "id": "IdX2vuJYbuEh"
      },
      "source": [
        "# II. Split Data\n",
        "\n",
        "**Task 3:** Split your DataFrame `df` into a feature matrix `X` and the target vector `y`. You want to predict `'price'`.\n",
        "\n",
        "**Note:** In contrast to the last module project, this time you should include _all_ the numerical features in your dataset."
      ]
    },
    {
      "cell_type": "code",
      "metadata": {
        "id": "_H7vKsenbuEh",
        "outputId": "7a8f9621-34b5-44f9-8fd7-e7c9545adeda",
        "colab": {
          "base_uri": "https://localhost:8080/"
        }
      },
      "source": [
        "# Columns to not include\n",
        "# Remove Redundant Variables that are included in your features\n",
        "cols = ['description', 'display_address', 'street_address', 'interest_level', 'price', 'bedrooms', 'bathrooms', 'dogs_allowed', 'hardwood_floors', 'dishwasher', 'laundry_in_unit']\n",
        "\n",
        "X = df.drop(columns = cols)\n",
        "y = df['price']\n",
        "\n",
        "# Check the shape of both X and y \n",
        "print(X.shape)\n",
        "print(y.shape)"
      ],
      "execution_count": 7,
      "outputs": [
        {
          "output_type": "stream",
          "text": [
            "(47260, 25)\n",
            "(47260,)\n"
          ],
          "name": "stdout"
        }
      ]
    },
    {
      "cell_type": "markdown",
      "metadata": {
        "id": "55xiNdz0buEh"
      },
      "source": [
        "**Task 4:** Split `X` and `y` into a training set (`X_train`, `y_train`) and a test set (`X_test`, `y_test`).\n",
        "\n",
        "- Your training set should include data from April and May 2016. \n",
        "- Your test set should include data from June 2016."
      ]
    },
    {
      "cell_type": "code",
      "metadata": {
        "id": "d_Q_QvjabuEi",
        "outputId": "8a6f6831-fa65-49ca-e57f-490aa7eea86c",
        "colab": {
          "base_uri": "https://localhost:8080/"
        }
      },
      "source": [
        "# Create an 80% cutoff value here using April and May cutoff months\n",
        "cutoff = (X.index.month == 4) | (X.index.month == 5)\n",
        "\n",
        "X_train, y_train = X.loc[cutoff], y.loc[cutoff]\n",
        "X_test, y_test = X.loc[~cutoff], y.loc[~cutoff]\n",
        "\n",
        "# Print X train and X test to make sure your code is correct\n",
        "print(X_train)\n",
        "print(X_test)"
      ],
      "execution_count": 8,
      "outputs": [
        {
          "output_type": "stream",
          "text": [
            "                     latitude  longitude  ...  pets_allowed  much_luxury\n",
            "created                                   ...                           \n",
            "2016-04-17 03:26:41   40.7388   -74.0018  ...           0.0          0.0\n",
            "2016-04-18 02:22:02   40.7539   -73.9677  ...           0.0          0.0\n",
            "2016-04-28 01:32:41   40.8241   -73.9493  ...           0.0          0.0\n",
            "2016-04-19 04:24:47   40.7429   -74.0028  ...           0.0          0.0\n",
            "2016-04-27 03:19:56   40.8012   -73.9660  ...           1.0          0.0\n",
            "...                       ...        ...  ...           ...          ...\n",
            "2016-04-22 15:44:11   40.7296   -73.9869  ...           1.0          0.0\n",
            "2016-04-04 18:22:34   40.7102   -74.0163  ...           1.0          0.0\n",
            "2016-04-16 02:13:40   40.7601   -73.9900  ...           1.0          0.0\n",
            "2016-04-08 02:13:33   40.7066   -74.0101  ...           1.0          0.0\n",
            "2016-04-12 02:48:07   40.8699   -73.9172  ...           0.0          0.0\n",
            "\n",
            "[30806 rows x 25 columns]\n",
            "                     latitude  longitude  ...  pets_allowed  much_luxury\n",
            "created                                   ...                           \n",
            "2016-06-24 07:54:24   40.7145   -73.9425  ...           0.0          0.0\n",
            "2016-06-12 12:19:27   40.7947   -73.9667  ...           1.0          0.0\n",
            "2016-06-03 03:21:22   40.8448   -73.9396  ...           0.0          0.0\n",
            "2016-06-01 03:11:01   40.7584   -73.9648  ...           0.0          0.0\n",
            "2016-06-07 04:39:56   40.7391   -73.9936  ...           1.0          0.0\n",
            "...                       ...        ...  ...           ...          ...\n",
            "2016-06-16 04:20:46   40.8456   -73.9361  ...           0.0          0.0\n",
            "2016-06-21 06:25:35   40.7817   -73.9497  ...           0.0          0.0\n",
            "2016-06-02 13:24:18   40.7669   -73.9917  ...           1.0          0.0\n",
            "2016-06-06 01:22:44   40.7957   -73.9705  ...           1.0          0.0\n",
            "2016-06-02 05:41:05   40.7426   -73.9790  ...           0.0          1.0\n",
            "\n",
            "[16454 rows x 25 columns]\n"
          ],
          "name": "stdout"
        }
      ]
    },
    {
      "cell_type": "markdown",
      "metadata": {
        "id": "mFEFbp1-buEi"
      },
      "source": [
        "# III. Establish Baseline"
      ]
    },
    {
      "cell_type": "markdown",
      "metadata": {
        "id": "4Dr4gb2zbuEi"
      },
      "source": [
        "**Task 5:** Since this is a **regression** problem, you need to calculate the baseline mean absolute error for your model. First, calculate the mean of `y_train`. Next, create a list `y_pred` that has the same length as `y_train` and where every item in the list is the mean. Finally, use `mean_absolute_error` to calculate your baseline."
      ]
    },
    {
      "cell_type": "code",
      "metadata": {
        "id": "m_bo9eSRbuEi",
        "outputId": "2aa7bf9e-4c8e-43e7-fa5a-d54a7858c2a9",
        "colab": {
          "base_uri": "https://localhost:8080/"
        }
      },
      "source": [
        "y_mean = y_train.mean()\n",
        "\n",
        "# Import sklearn \n",
        "from sklearn.metrics import mean_absolute_error\n",
        "\n",
        "y_pred = [y_mean] * len(y_train)\n",
        "\n",
        "baseline_mae = mean_absolute_error(y_train, y_pred)\n",
        "print('Baseline MAE:', baseline_mae)"
      ],
      "execution_count": 9,
      "outputs": [
        {
          "output_type": "stream",
          "text": [
            "Baseline MAE: 1202.398300781848\n"
          ],
          "name": "stdout"
        }
      ]
    },
    {
      "cell_type": "markdown",
      "metadata": {
        "id": "vYRU-JiBbuEi"
      },
      "source": [
        "# IV. Build Model\n",
        "\n",
        "**Task 6:** Build and train a `LinearRegression` model named `model` using your feature matrix `X_train` and your target vector `y_train`."
      ]
    },
    {
      "cell_type": "code",
      "metadata": {
        "id": "iwm7W6qvbuEi",
        "outputId": "6d160653-108d-44d6-b891-71945fa7f4cc",
        "colab": {
          "base_uri": "https://localhost:8080/"
        }
      },
      "source": [
        "# Step 1: Import predictor class\n",
        "from sklearn.linear_model import LinearRegression\n",
        "\n",
        "# Step 2: Instantiate predictor\n",
        "model = LinearRegression()\n",
        "\n",
        "# Step 3: Fit predictor on the (training) data\n",
        "\n",
        "model.fit(X_train, y_train)"
      ],
      "execution_count": 10,
      "outputs": [
        {
          "output_type": "execute_result",
          "data": {
            "text/plain": [
              "LinearRegression(copy_X=True, fit_intercept=True, n_jobs=None, normalize=False)"
            ]
          },
          "metadata": {
            "tags": []
          },
          "execution_count": 10
        }
      ]
    },
    {
      "cell_type": "markdown",
      "metadata": {
        "id": "1E6HBjhybuEi"
      },
      "source": [
        "# V. Check Metrics\n",
        "\n",
        "**Task 7:** Calculate the training and test mean absolute error for your model."
      ]
    },
    {
      "cell_type": "code",
      "metadata": {
        "id": "EUho34imbuEi",
        "outputId": "ac5fd2b9-08b3-4b3a-ccc0-28e00fc79fe3",
        "colab": {
          "base_uri": "https://localhost:8080/"
        }
      },
      "source": [
        "# Use your train and test models to find predictions for y\n",
        "y1_train_pred = model.predict(X_train)\n",
        "y1_test_pred = model.predict(X_test)\n",
        "\n",
        "# Now use these values to calculate the train and test Mean Absolute Error\n",
        "training_mae = mean_absolute_error(y_train, y1_train_pred)\n",
        "test_mae = mean_absolute_error(y_test, y1_test_pred)\n",
        "\n",
        "print('Training MAE:', training_mae)\n",
        "print('Test MAE:', test_mae)"
      ],
      "execution_count": 11,
      "outputs": [
        {
          "output_type": "stream",
          "text": [
            "Training MAE: 747.6761656314386\n",
            "Test MAE: 759.2499182895607\n"
          ],
          "name": "stdout"
        }
      ]
    },
    {
      "cell_type": "markdown",
      "metadata": {
        "id": "IyhzgXiLbuEj"
      },
      "source": [
        "**Task 8:** Calculate the training and test $R^2$ score for your model."
      ]
    },
    {
      "cell_type": "code",
      "metadata": {
        "id": "lC5VkSV-buEj",
        "outputId": "15c04245-26de-43fb-af6f-81d31f394b39",
        "colab": {
          "base_uri": "https://localhost:8080/"
        }
      },
      "source": [
        "# Import r2\n",
        "from sklearn.metrics import r2_score\n",
        "\n",
        "training_r2 = r2_score(y_train, y1_train_pred)\n",
        "test_r2 = r2_score(y_test, y1_test_pred)\n",
        "\n",
        "print('Training MAE:', training_r2)\n",
        "print('Test MAE:', test_r2)"
      ],
      "execution_count": 12,
      "outputs": [
        {
          "output_type": "stream",
          "text": [
            "Training MAE: 0.5611133939523953\n",
            "Test MAE: 0.5654439752973328\n"
          ],
          "name": "stdout"
        }
      ]
    },
    {
      "cell_type": "markdown",
      "metadata": {
        "id": "1Vz9HTXJbuEj"
      },
      "source": [
        "# VI. Communicate Results\n",
        "\n",
        "**Stretch Goal:** What are the three most influential coefficients in your linear model? You should consider the _absolute value_ of each coefficient, so that it doesn't matter if it's positive or negative."
      ]
    },
    {
      "cell_type": "code",
      "metadata": {
        "id": "nYXg4xvGbuEj",
        "outputId": "c816fe24-0a4f-46d0-bbab-a39578e93acd",
        "colab": {
          "base_uri": "https://localhost:8080/"
        }
      },
      "source": [
        "# Step 1 is to list all of the coefficients\n",
        "coef = model.coef_\n",
        "print(coef)\n",
        "\n",
        "# Step 2 is to list all column headers\n",
        "col_names = X.columns\n",
        "print(col_names)\n",
        "\n",
        "# Step 3 is to create a new DataFrame to compare coefficients\n",
        "df_stretch = pd.DataFrame(coef, index= col_names)\n",
        "\n",
        "# Print the DataFrame Header to check\n",
        "print(df_stretch.head())"
      ],
      "execution_count": 13,
      "outputs": [
        {
          "output_type": "stream",
          "text": [
            "[  1809.28167967 -13748.63461857    154.82197234    206.54477786\n",
            "    633.95362426   -261.57407203   -287.95401078    198.45666836\n",
            "    -50.34963432   -223.06658968   -127.78742267    267.80553396\n",
            "   -428.42553857    -29.18463245    106.96723285    -78.85890897\n",
            "    206.98002177    330.00812969    273.37968309    -55.7407297\n",
            "    270.69152543   -112.33975853    801.5823805    -116.01718506\n",
            "    504.05708399]\n",
            "Index(['latitude', 'longitude', 'elevator', 'cats_allowed', 'doorman',\n",
            "       'no_fee', 'laundry_in_building', 'fitness_center', 'pre-war',\n",
            "       'roof_deck', 'outdoor_space', 'dining_room', 'high_speed_internet',\n",
            "       'balcony', 'swimming_pool', 'new_construction', 'terrace', 'exclusive',\n",
            "       'loft', 'garden_patio', 'wheelchair_access', 'common_outdoor_space',\n",
            "       'total_rooms', 'pets_allowed', 'much_luxury'],\n",
            "      dtype='object')\n",
            "                         0\n",
            "latitude       1809.281680\n",
            "longitude    -13748.634619\n",
            "elevator        154.821972\n",
            "cats_allowed    206.544778\n",
            "doorman         633.953624\n"
          ],
          "name": "stdout"
        }
      ]
    },
    {
      "cell_type": "code",
      "metadata": {
        "id": "jplPS-nsBnKb",
        "outputId": "e8e919bb-2f4e-475e-f6e8-d588d3069747",
        "colab": {
          "base_uri": "https://localhost:8080/"
        }
      },
      "source": [
        "# Now that we have our dataframe \n",
        "df_stretch.abs()\n",
        "\n",
        "df_stretch[0].abs().sort_values(ascending= False)"
      ],
      "execution_count": 14,
      "outputs": [
        {
          "output_type": "execute_result",
          "data": {
            "text/plain": [
              "longitude               13748.634619\n",
              "latitude                 1809.281680\n",
              "total_rooms               801.582380\n",
              "doorman                   633.953624\n",
              "much_luxury               504.057084\n",
              "high_speed_internet       428.425539\n",
              "exclusive                 330.008130\n",
              "laundry_in_building       287.954011\n",
              "loft                      273.379683\n",
              "wheelchair_access         270.691525\n",
              "dining_room               267.805534\n",
              "no_fee                    261.574072\n",
              "roof_deck                 223.066590\n",
              "terrace                   206.980022\n",
              "cats_allowed              206.544778\n",
              "fitness_center            198.456668\n",
              "elevator                  154.821972\n",
              "outdoor_space             127.787423\n",
              "pets_allowed              116.017185\n",
              "common_outdoor_space      112.339759\n",
              "swimming_pool             106.967233\n",
              "new_construction           78.858909\n",
              "garden_patio               55.740730\n",
              "pre-war                    50.349634\n",
              "balcony                    29.184632\n",
              "Name: 0, dtype: float64"
            ]
          },
          "metadata": {
            "tags": []
          },
          "execution_count": 14
        }
      ]
    },
    {
      "cell_type": "markdown",
      "metadata": {
        "id": "OxBcrC-UJ0O4"
      },
      "source": [
        "It seems that the largest coefficients for this dataset are Longitude, Latitude, and Total Rooms"
      ]
    },
    {
      "cell_type": "code",
      "metadata": {
        "id": "7tGtvgEyLQwC"
      },
      "source": [
        ""
      ],
      "execution_count": null,
      "outputs": []
    }
  ]
}